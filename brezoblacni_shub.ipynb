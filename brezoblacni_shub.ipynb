{
 "cells": [
  {
   "cell_type": "markdown",
   "id": "81f14008-0c10-41c7-bdc6-998f77a3aa77",
   "metadata": {},
   "source": [
    "# Cloudless images from Sentinel HUB\n",
    "\n",
    "Find cloudless images for a selected AOI in a selected time frame."
   ]
  },
  {
   "cell_type": "code",
   "execution_count": 1,
   "id": "90e3a9f2-a47b-48f5-ae3e-05023c89dc2d",
   "metadata": {},
   "outputs": [
    {
     "data": {
      "text/plain": [
       "SHConfig(\n",
       "  instance_id='CEOIS2',\n",
       "  sh_client_id='d680e4fa-c777-4c98-ae42-ce515fc389ca',\n",
       "  sh_client_secret='1n*Pe/M9|/gDC9ctn.)a6zN{y2j+h-aSzp{z*Xyk',\n",
       "  sh_base_url='https://services.sentinel-hub.com',\n",
       "  geopedia_wms_url='https://service.geopedia.world',\n",
       "  geopedia_rest_url='https://www.geopedia.world/rest',\n",
       "  aws_access_key_id='',\n",
       "  aws_secret_access_key='',\n",
       "  aws_metadata_url='https://roda.sentinel-hub.com',\n",
       "  aws_s3_l1c_bucket='sentinel-s2-l1c',\n",
       "  aws_s3_l2a_bucket='sentinel-s2-l2a',\n",
       "  opensearch_url='http://opensearch.sentinel-hub.com/resto/api/collections/Sentinel2',\n",
       "  max_wfs_records_per_query=100,\n",
       "  max_opensearch_records_per_query=500,\n",
       "  max_download_attempts=4,\n",
       "  download_sleep_time=5,\n",
       "  download_timeout_seconds=120,\n",
       "  number_of_download_processes=1\n",
       ")"
      ]
     },
     "execution_count": 1,
     "metadata": {},
     "output_type": "execute_result"
    }
   ],
   "source": [
    "from sentinelhub import SHConfig\n",
    "\n",
    "config = SHConfig()\n",
    "\n",
    "#config.instance_id = '<your instance id>'\n",
    "#config.sh_client_id = '<your client id>'\n",
    "#config.sh_client_secret = '<your client secret>'\n",
    "\n",
    "config"
   ]
  },
  {
   "cell_type": "code",
   "execution_count": 2,
   "id": "97a673be-4e53-420a-b7c2-8e76dcd0c3c8",
   "metadata": {},
   "outputs": [],
   "source": [
    "%reload_ext autoreload\n",
    "%autoreload 2\n",
    "%matplotlib inline"
   ]
  },
  {
   "cell_type": "code",
   "execution_count": 52,
   "id": "9697c296-f82b-4333-ab72-83d153306986",
   "metadata": {},
   "outputs": [],
   "source": [
    "# import os\n",
    "# import datetime\n",
    "# import numpy as np\n",
    "# import matplotlib.pyplot as plt\n",
    "# from utils import plot_image\n",
    "# import osmnx as ox\n",
    "# import glob\n",
    "# import rasterio\n",
    "# import rasterio.plot\n",
    "\n",
    "from sentinelhub import CRS, BBox, bbox_to_dimensions, DataCollection, \\\n",
    "    SentinelHubCatalog, filter_times, \\\n",
    "    SentinelHubRequest, MimeType, SentinelHubDownloadClient\n",
    "\n",
    "import datetime as dt\n",
    "#import tarfile\n",
    "from os.path import join, dirname\n",
    "from os import rename\n",
    "from shutil import rmtree"
   ]
  },
  {
   "cell_type": "markdown",
   "id": "597f1769-88e4-4fc7-a667-01d906bc000d",
   "metadata": {},
   "source": [
    "## Prepare input data"
   ]
  },
  {
   "cell_type": "code",
   "execution_count": 4,
   "id": "78d64b21-7085-4319-8fe8-3931a25920ea",
   "metadata": {},
   "outputs": [
    {
     "name": "stdout",
     "output_type": "stream",
     "text": [
      "(512, 512)\n",
      "510260.0,267420.0,515380.0,272540.0\n",
      "EPSG:32636\n"
     ]
    }
   ],
   "source": [
    "# Data collection\n",
    "data_collection = DataCollection.SENTINEL2_L2A\n",
    "\n",
    "# Resolution (pixel size)\n",
    "resolution = 10\n",
    "\n",
    "# CRS for sentinelhub query getattr() assigns module CRS with UTM_### method ==> CRS.UTM_36N\n",
    "utm_zone = \"36N\"\n",
    "sample_crs = getattr(CRS, f\"UTM_{utm_zone}\")\n",
    "# List of supported CRSs: https://docs.sentinel-hub.com/api/latest/api/process/crs/\n",
    "\n",
    "# ------------------------------------------------------------------------------------------------\n",
    "\n",
    "## Build bbox from centrepoint + distance\n",
    "# centrepoint\n",
    "utm_x = 512817\n",
    "utm_y = 269983\n",
    "# AOI size in meters (x, y)\n",
    "aoi_size = (5120, 5120)\n",
    "\n",
    "# Round UTM coords to nearest 10 (so the raster will look nice in UTM - \"target aligned pixels\")\n",
    "x_y = (round(utm_x, -1), round(utm_y, -1)) \n",
    "\n",
    "bbox_utm = [x_y[0] - aoi_size[0]/2,\n",
    "            x_y[1] - aoi_size[1]/2,\n",
    "            x_y[0] + aoi_size[0]/2,\n",
    "            x_y[1] + aoi_size[1]/2]\n",
    "\n",
    "\n",
    "# ## Use this to create a bbox directly:\n",
    "# bbox_utm = [510260, 267420, 515380, 272540]\n",
    "\n",
    "# ------------------------------------------------------------------------------------------------\n",
    "\n",
    "# Prepare some data for sentinelhub\n",
    "sample_bbox = BBox(bbox=bbox_utm, crs=sample_crs)\n",
    "sample_size = bbox_to_dimensions(sample_bbox, resolution=resolution)\n",
    "print(sample_size)\n",
    "print(sample_bbox)\n",
    "print(sample_crs)"
   ]
  },
  {
   "cell_type": "markdown",
   "id": "b26c7117-21e2-4c39-bf82-853c8289e412",
   "metadata": {},
   "source": [
    "## Search for all available images in a time frame"
   ]
  },
  {
   "cell_type": "markdown",
   "id": "99c8df9a-9c61-4849-ae92-1617bcdfa81b",
   "metadata": {},
   "source": [
    "Kako pa dobimo vse posnetke (vse datume) znotraj enega četrtletja?"
   ]
  },
  {
   "cell_type": "code",
   "execution_count": null,
   "id": "bfdefc24-9465-4de8-bcfc-64bf03d28cb4",
   "metadata": {},
   "outputs": [
    {
     "name": "stdout",
     "output_type": "stream",
     "text": [
      "Total number of results: 106\n",
      "[{'id': 'S2B_MSIL2A_20181231T080329_N0211_R035_T36NWH_20181231T095733', 'properties': {'datetime': '2018-12-31T08:19:26Z', 'eo:cloud_cover': 5.15}}, {'id': 'S2A_MSIL2A_20181226T080331_N0211_R035_T36NWH_20181226T104208', 'properties': {'datetime': '2018-12-26T08:19:22Z', 'eo:cloud_cover': 1.03}}, {'id': 'S2B_MSIL2A_20181221T080329_N0211_R035_T36NWH_20181221T141004', 'properties': {'datetime': '2018-12-21T08:19:24Z', 'eo:cloud_cover': 2.16}}, {'id': 'S2A_MSIL2A_20181216T080331_N0211_R035_T36NWH_20181216T102435', 'properties': {'datetime': '2018-12-16T08:19:20Z', 'eo:cloud_cover': 8.69}}]\n",
      "Number of unique acquisitions: 72\n",
      "Wall time: 1.12 s\n"
     ]
    }
   ],
   "source": [
    "%%time\n",
    "# Sarch catalog for all images with bbox in a time interval\n",
    "catalog = SentinelHubCatalog(config=config)\n",
    "\n",
    "# SET TIME INTERVAL\n",
    "time_interval = '2018-01-01', '2019-01-01'\n",
    "\n",
    "search_iterator = catalog.search(\n",
    "    DataCollection.SENTINEL2_L2A,\n",
    "    bbox=sample_bbox,\n",
    "    time=time_interval,\n",
    "    fields={\n",
    "        \"include\": [\n",
    "            \"id\",\n",
    "            \"properties.datetime\",\n",
    "            \"properties.eo:cloud_cover\"\n",
    "        ],\n",
    "        \"exclude\": []\n",
    "    }\n",
    "\n",
    ")\n",
    "\n",
    "results = list(search_iterator)\n",
    "print('Total number of results:', len(list(search_iterator)))\n",
    "print(results[:4])\n",
    "\n",
    "# Many timestamps differ only for a few seconds. That is because they are from\n",
    "# tiles in the same orbit acquisition. We want to join them together in a single timestamp.\n",
    "\n",
    "time_difference = dt.timedelta(hours=1)\n",
    "all_timestamps = search_iterator.get_timestamps()\n",
    "\n",
    "unique_acquisitions = filter_times(all_timestamps, time_difference)\n",
    "print(f\"Number of unique acquisitions: {len(unique_acquisitions)}\")"
   ]
  },
  {
   "cell_type": "markdown",
   "id": "7ad9fce9-6e8e-4b26-a78f-18d08f66a7fd",
   "metadata": {},
   "source": [
    "## Filter by cloud cover"
   ]
  },
  {
   "cell_type": "markdown",
   "id": "e4e67d3f-7333-414e-9c75-db67de551225",
   "metadata": {},
   "source": [
    "### Download all CLMs"
   ]
  },
  {
   "cell_type": "code",
   "execution_count": 7,
   "id": "44297577-a67e-41c9-8ba4-b300a21f6e19",
   "metadata": {
    "tags": []
   },
   "outputs": [
    {
     "name": "stdout",
     "output_type": "stream",
     "text": [
      "Downloaded: 72\n",
      "Wall time: 4.81 s\n"
     ]
    }
   ],
   "source": [
    "%%time\n",
    "\n",
    "# Create a Process API request for each acquisition:\n",
    "cm_evalscript = \"\"\"\n",
    "    //VERSION=3\n",
    "\n",
    "    function setup() {\n",
    "        return {\n",
    "            input: [{\n",
    "                bands: [\"CLM\"]\n",
    "            }],\n",
    "            output: {\n",
    "                bands: 1\n",
    "            }\n",
    "        };\n",
    "    }\n",
    "\n",
    "    function evaluatePixel(sample) {\n",
    "        return [sample.CLM];\n",
    "    }\n",
    "\"\"\"\n",
    "\n",
    "# Requests will be appenede to this list\n",
    "process_requests = []\n",
    "\n",
    "for timestamp in unique_acquisitions:\n",
    "    request = SentinelHubRequest(\n",
    "        evalscript=cm_evalscript,\n",
    "        input_data=[\n",
    "            SentinelHubRequest.input_data(\n",
    "                data_collection=data_collection,\n",
    "                time_interval=(timestamp - time_difference, timestamp + time_difference)\n",
    "            )\n",
    "        ],\n",
    "        responses=[\n",
    "            SentinelHubRequest.output_response('default', MimeType.PNG)\n",
    "        ],\n",
    "        bbox=sample_bbox,\n",
    "        size=sample_size,\n",
    "        config=config\n",
    "    )\n",
    "    process_requests.append(request)\n",
    "    \n",
    "\n",
    "# In order to efficiently download data for all requests in parallel, we extract download information and pass it to a download client.\n",
    "client = SentinelHubDownloadClient(config=config)\n",
    "download_requests = [request.download_list[0] for request in process_requests]\n",
    "data = client.download(download_requests)\n",
    "\n",
    "print(f\"Downloaded: {len(data)}\")"
   ]
  },
  {
   "cell_type": "markdown",
   "id": "2c8796c5-0e82-4ea1-8926-5c69e6d3ca50",
   "metadata": {},
   "source": [
    "### Filter by cloud cover"
   ]
  },
  {
   "cell_type": "code",
   "execution_count": 57,
   "id": "7775cd30-70fe-4d97-9cd7-3e367b5c8478",
   "metadata": {},
   "outputs": [
    {
     "name": "stdout",
     "output_type": "stream",
     "text": [
      "29\n"
     ]
    },
    {
     "data": {
      "text/plain": [
       "[(datetime.datetime(2018, 1, 5, 8, 18, 52, tzinfo=tzutc()), 0.0),\n",
       " (datetime.datetime(2018, 1, 10, 8, 15, 26, tzinfo=tzutc()), 0.0),\n",
       " (datetime.datetime(2018, 1, 15, 8, 17, 55, tzinfo=tzutc()), 0.0),\n",
       " (datetime.datetime(2018, 1, 25, 8, 8, tzinfo=tzutc()), 0.0),\n",
       " (datetime.datetime(2018, 1, 30, 8, 11, 4, tzinfo=tzutc()), 0.0),\n",
       " (datetime.datetime(2018, 2, 4, 8, 14, 15, tzinfo=tzutc()), 0.0),\n",
       " (datetime.datetime(2018, 2, 9, 8, 19, 3, tzinfo=tzutc()), 0.0),\n",
       " (datetime.datetime(2018, 2, 14, 8, 18, 8, tzinfo=tzutc()), 0.0),\n",
       " (datetime.datetime(2018, 3, 11, 8, 14, 46, tzinfo=tzutc()), 0.0),\n",
       " (datetime.datetime(2018, 5, 15, 8, 9, 13, tzinfo=tzutc()), 0.0),\n",
       " (datetime.datetime(2018, 6, 9, 8, 3, 43, tzinfo=tzutc()), 0.0),\n",
       " (datetime.datetime(2018, 6, 14, 8, 18, 11, tzinfo=tzutc()), 0.0),\n",
       " (datetime.datetime(2018, 6, 29, 8, 18, 42, tzinfo=tzutc()), 0.0),\n",
       " (datetime.datetime(2018, 7, 14, 8, 11, 56, tzinfo=tzutc()), 0.0),\n",
       " (datetime.datetime(2018, 7, 24, 8, 16, 36, tzinfo=tzutc()), 0.0),\n",
       " (datetime.datetime(2018, 8, 13, 8, 16, 40, tzinfo=tzutc()), 0.0),\n",
       " (datetime.datetime(2018, 8, 28, 8, 13, 1, tzinfo=tzutc()), 0.0),\n",
       " (datetime.datetime(2018, 9, 2, 8, 9, 2, tzinfo=tzutc()), 0.0),\n",
       " (datetime.datetime(2018, 9, 7, 8, 15, 13, tzinfo=tzutc()), 0.0),\n",
       " (datetime.datetime(2018, 9, 22, 8, 13, 26, tzinfo=tzutc()), 0.0),\n",
       " (datetime.datetime(2018, 9, 27, 8, 3, 55, tzinfo=tzutc()), 0.0),\n",
       " (datetime.datetime(2018, 10, 17, 8, 8, 15, tzinfo=tzutc()), 0.0),\n",
       " (datetime.datetime(2018, 10, 22, 8, 9, 8, tzinfo=tzutc()), 0.0),\n",
       " (datetime.datetime(2018, 11, 1, 8, 11, 42, tzinfo=tzutc()), 0.0),\n",
       " (datetime.datetime(2018, 11, 6, 8, 19, 24, tzinfo=tzutc()), 0.0),\n",
       " (datetime.datetime(2018, 11, 21, 8, 19, 26, tzinfo=tzutc()), 0.0),\n",
       " (datetime.datetime(2018, 11, 26, 8, 19, 21, tzinfo=tzutc()), 0.0),\n",
       " (datetime.datetime(2018, 12, 26, 8, 19, 22, tzinfo=tzutc()), 0.0),\n",
       " (datetime.datetime(2018, 12, 31, 8, 19, 26, tzinfo=tzutc()), 0.0)]"
      ]
     },
     "execution_count": 57,
     "metadata": {},
     "output_type": "execute_result"
    }
   ],
   "source": [
    "# Select threshold (e.g. 0.05 for less or equal than 5%)\n",
    "threshold = 0\n",
    "# Calculat cloud ratio for all images\n",
    "cc_ratio = [(cc_image == 255).sum() / cc_image.size for cc_image in data]\n",
    "# Select those below the threshold\n",
    "lt5_cc = [(i, cc) for i, cc in zip(unique_acquisitions, cc_ratio) if cc <= threshold]\n",
    "\n",
    "print(len(lt5_cc))\n",
    "lt5_cc"
   ]
  },
  {
   "cell_type": "markdown",
   "id": "dbe50e4a-99a9-4a85-ab61-ac49e710235d",
   "metadata": {},
   "source": [
    "## Download selected images (num)\n",
    "\n",
    "Evalscript parameters: [https://docs.sentinel-hub.com/api/latest/evalscript/v3/#parameters](https://docs.sentinel-hub.com/api/latest/evalscript/v3/#parameters)"
   ]
  },
  {
   "cell_type": "code",
   "execution_count": 69,
   "id": "607af2fa-3e8f-4793-a17f-a8e1b949e330",
   "metadata": {},
   "outputs": [
    {
     "name": "stdout",
     "output_type": "stream",
     "text": [
      "Wall time: 5.39 s\n"
     ]
    }
   ],
   "source": [
    "%%time\n",
    "\n",
    "# Double curved brackets, so we can insert variables using .format() method where single brackets are present\n",
    "my_evalscript = \"\"\"\n",
    "    //VERSION=3\n",
    "\n",
    "    function setup() {{\n",
    "        return {{\n",
    "            input: [{{\n",
    "                bands: [\"B02\",\"B03\",\"B04\"],\n",
    "                units: \"reflectance\"  // \"DN\" for Digital Numbers, \"reflectance\" for normalised\n",
    "            }}],\n",
    "            output: {{\n",
    "                id: \"{0}\",\n",
    "                bands: 3,\n",
    "                sampleType: \"FLOAT32\"  // \"UINT16\" for \"DN\", \"FLOAT32\" for \"reflectance\" \n",
    "            }}\n",
    "        }};\n",
    "    }}\n",
    "    \n",
    "    //NOT USED IF ONLY ONE TIFF IS DEFINED IN RESPONSES (uncomment in the SentinelHubRequest below)\n",
    "    function updateOutputMetadata(scenes, inputMetadata, outputMetadata) {{\n",
    "        outputMetadata.userData = {{ \"norm_factor\":  inputMetadata.normalizationFactor }}\n",
    "    }}\n",
    "\n",
    "    function evaluatePixel(sample) {{\n",
    "        return [sample.B04, sample.B03, sample.B02];\n",
    "    }}\n",
    "\"\"\"\n",
    "\n",
    "data_folder = \".\\\\downloaded\"\n",
    "\n",
    "process_requests = []\n",
    "save_locations = []\n",
    "for timestamp, _ in lt5_cc[:3]:\n",
    "    # Insert custom name for output file into evalscript\n",
    "    my_string = timestamp.strftime(\"S2_%Y%d%mT%H%M%S_cloudless\")\n",
    "    evalscript = my_evalscript.format(my_string)\n",
    "    \n",
    "    # Define custom name for correct file naming\n",
    "    my_folder = join(data_folder, my_string)\n",
    "    \n",
    "    request = SentinelHubRequest(\n",
    "        data_folder=my_folder,\n",
    "        evalscript=evalscript,\n",
    "        input_data=[\n",
    "            SentinelHubRequest.input_data(\n",
    "                data_collection=data_collection,\n",
    "                time_interval=(timestamp - time_difference, timestamp + time_difference)\n",
    "            )\n",
    "        ],\n",
    "        responses=[\n",
    "            SentinelHubRequest.output_response(my_string, MimeType.TIFF),\n",
    "            #SentinelHubRequest.output_response(\"userdata\", MimeType.JSON)\n",
    "        ],\n",
    "        bbox=sample_bbox,\n",
    "        size=sample_size,\n",
    "        config=config\n",
    "    )\n",
    "    process_requests.append(request)\n",
    "    save_locations.append(join(my_folder, request.get_filename_list()[0]))\n",
    "\n",
    "\n",
    "# Download files\n",
    "download_requests = [request.save_data(raise_download_errors=True) for request in process_requests]\n",
    "\n",
    "# Rename filest\n",
    "for file in save_locations:\n",
    "    target_name = dirname(dirname(file))\n",
    "    rename(file, target_name + \".tiff\")\n",
    "    # Remove leftover folder\n",
    "    rmtree(target_name)\n",
    "\n",
    "# # Now extract all the files (only if more than one output was defined)\n",
    "# abc = [request.get_filename_list()[0] for request in process_requests]\n",
    "# for image in abc:\n",
    "#     tar_path = join(data_folder, image)\n",
    "#     with tarfile.open(tar_path) as my_tar:\n",
    "#         my_tar.extractall(data_folder)\n",
    "#     rmtree(dirname(tar_path))"
   ]
  },
  {
   "cell_type": "markdown",
   "id": "0806233d-710a-4931-869f-ddbc946c6bf3",
   "metadata": {
    "tags": []
   },
   "source": [
    "## Visualize results in Jupyter Notebook\n",
    "\n",
    "TBA"
   ]
  },
  {
   "cell_type": "raw",
   "id": "6cb1f7c3-144f-42df-9ffa-eb2346390947",
   "metadata": {},
   "source": [
    "evalscript_tc = \"\"\"\n",
    "    //VERSION=3\n",
    "    function setup() {\n",
    "        return {\n",
    "            input: [{\n",
    "                bands: [\"B02\",\"B03\",\"B04\",\"CLM\"],\n",
    "            }],\n",
    "            output: {\n",
    "                bands: 3,\n",
    "            }\n",
    "        };\n",
    "    }\n",
    "\n",
    "    function evaluatePixel(sample) {\n",
    "        return [sample.B04, sample.B03, sample.B02];\n",
    "    }\n",
    "\"\"\"\n",
    "\n",
    "def get_true_color_request(time_interval):\n",
    "    return SentinelHubRequest(\n",
    "        evalscript=evalscript_tc,\n",
    "        input_data=[\n",
    "            SentinelHubRequest.input_data(\n",
    "                data_collection=data_collection,\n",
    "                time_interval=time_interval,\n",
    "                mosaicking_order='leastCC',\n",
    "            )\n",
    "        ],\n",
    "        responses=[\n",
    "            SentinelHubRequest.output_response('default', MimeType.PNG)\n",
    "        ],\n",
    "        bbox=sample_bbox,\n",
    "        size=sample_size,\n",
    "        config=config\n",
    "    )\n",
    "\n",
    "# --------------------------------------------------------------------------\n",
    "# Set time intervals\n",
    "from dateutil.relativedelta import relativedelta\n",
    "slots = [(\n",
    "    datetime.datetime(2018,mth,1).date().isoformat(),\n",
    "    (datetime.datetime(2018,mth,1) + relativedelta(months=3)).date().isoformat()\n",
    ") for mth in range(1, 13, 3)]\n",
    "\n",
    "\n",
    "# create a list of requests\n",
    "list_of_requests = [get_true_color_request(slot) for slot in slots]\n",
    "list_of_requests = [request.download_list[0] for request in list_of_requests]\n",
    "\n",
    "# download data with multiple threads\n",
    "data = SentinelHubDownloadClient(config=config).download(list_of_requests, max_threads=5)\n",
    "\n",
    "# some stuff for pretty plots\n",
    "ncols = 2\n",
    "nrows = 2\n",
    "aspect_ratio = sample_size[0] / sample_size[1]\n",
    "subplot_kw = {'xticks': [], 'yticks': [], 'frame_on': False}\n",
    "\n",
    "fig, axs = plt.subplots(ncols=ncols, nrows=nrows, figsize=(5 * ncols * aspect_ratio, 5 * nrows),\n",
    "                        subplot_kw=subplot_kw)\n",
    "\n",
    "for idx, image in enumerate(data):\n",
    "    ax = axs[idx // ncols][idx % ncols]\n",
    "    ax.imshow(np.clip(image * 3.5/255, 0, 1))\n",
    "    ax.set_title(f'{slots[idx][0]}  -  {slots[idx][1]}', fontsize=10)\n",
    "\n",
    "plt.tight_layout()"
   ]
  },
  {
   "cell_type": "markdown",
   "id": "76dc4d58-cafb-41ce-ad97-a17c671a756f",
   "metadata": {},
   "source": [
    "## Download numpy and save GeoTIFF with rasteri\n",
    "\n",
    "TBA"
   ]
  }
 ],
 "metadata": {
  "kernelspec": {
   "display_name": "Python 3 (ipykernel)",
   "language": "python",
   "name": "python3"
  },
  "language_info": {
   "codemirror_mode": {
    "name": "ipython",
    "version": 3
   },
   "file_extension": ".py",
   "mimetype": "text/x-python",
   "name": "python",
   "nbconvert_exporter": "python",
   "pygments_lexer": "ipython3",
   "version": "3.7.10"
  }
 },
 "nbformat": 4,
 "nbformat_minor": 5
}
